{
 "cells": [
  {
   "cell_type": "code",
   "execution_count": 5,
   "id": "887a2d51",
   "metadata": {
    "vscode": {
     "languageId": "markdown"
    }
   },
   "outputs": [
    {
     "name": "stdout",
     "output_type": "stream",
     "text": [
      "Defaulting to user installation because normal site-packages is not writeableNote: you may need to restart the kernel to use updated packages.\n"
     ]
    },
    {
     "name": "stderr",
     "output_type": "stream",
     "text": [
      "  WARNING: The scripts snowflake-dump-certs.exe, snowflake-dump-ocsp-response-cache.exe and snowflake-dump-ocsp-response.exe are installed in 'C:\\Users\\VENKATA SAI DHANUSH\\AppData\\Roaming\\Python\\Python311\\Scripts' which is not on PATH.\n",
      "  Consider adding this directory to PATH or, if you prefer to suppress this warning, use --no-warn-script-location.\n"
     ]
    },
    {
     "name": "stdout",
     "output_type": "stream",
     "text": [
      "\n",
      "Collecting snowflake-snowpark-python\n",
      "  Obtaining dependency information for snowflake-snowpark-python from https://files.pythonhosted.org/packages/54/67/304fdf26a533156d53dbad066feb0cf51a353c50745732b5b8330f28bd2f/snowflake_snowpark_python-1.34.0-py3-none-any.whl.metadata\n",
      "  Downloading snowflake_snowpark_python-1.34.0-py3-none-any.whl.metadata (148 kB)\n",
      "     ---------------------------------------- 0.0/148.4 kB ? eta -:--:--\n",
      "     ------- ----------------------------- 30.7/148.4 kB 445.2 kB/s eta 0:00:01\n",
      "     ------------------------ -------------- 92.2/148.4 kB 1.1 MB/s eta 0:00:01\n",
      "     -------------------------------------- 148.4/148.4 kB 1.3 MB/s eta 0:00:00\n",
      "Requirement already satisfied: pandas in c:\\programdata\\anaconda3\\lib\\site-packages (2.0.3)\n",
      "Requirement already satisfied: scikit-learn in c:\\programdata\\anaconda3\\lib\\site-packages (1.3.0)\n",
      "Requirement already satisfied: scipy in c:\\programdata\\anaconda3\\lib\\site-packages (1.11.1)\n",
      "Requirement already satisfied: numpy in c:\\programdata\\anaconda3\\lib\\site-packages (1.24.3)\n",
      "Requirement already satisfied: matplotlib in c:\\programdata\\anaconda3\\lib\\site-packages (3.7.2)\n",
      "Requirement already satisfied: setuptools>=40.6.0 in c:\\programdata\\anaconda3\\lib\\site-packages (from snowflake-snowpark-python) (68.0.0)\n",
      "Requirement already satisfied: wheel in c:\\programdata\\anaconda3\\lib\\site-packages (from snowflake-snowpark-python) (0.38.4)\n",
      "Collecting snowflake-connector-python<4.0.0,>=3.14.0 (from snowflake-snowpark-python)\n",
      "  Obtaining dependency information for snowflake-connector-python<4.0.0,>=3.14.0 from https://files.pythonhosted.org/packages/5e/11/e70896521ff209969fbe75d0811182f9b59ab84b00951aaa4d2a4b5854a2/snowflake_connector_python-3.16.0-cp311-cp311-win_amd64.whl.metadata\n",
      "  Downloading snowflake_connector_python-3.16.0-cp311-cp311-win_amd64.whl.metadata (73 kB)\n",
      "     ---------------------------------------- 0.0/73.2 kB ? eta -:--:--\n",
      "     ---------------------------------------- 73.2/73.2 kB 2.0 MB/s eta 0:00:00\n",
      "Requirement already satisfied: typing-extensions<5.0.0,>=4.1.0 in c:\\users\\venkata sai dhanush\\appdata\\roaming\\python\\python311\\site-packages (from snowflake-snowpark-python) (4.10.0)\n",
      "Requirement already satisfied: pyyaml in c:\\programdata\\anaconda3\\lib\\site-packages (from snowflake-snowpark-python) (6.0)\n",
      "Requirement already satisfied: cloudpickle!=2.1.0,!=2.2.0,<=3.0.0,>=1.6.0 in c:\\programdata\\anaconda3\\lib\\site-packages (from snowflake-snowpark-python) (2.2.1)\n",
      "Requirement already satisfied: protobuf<6,>=3.20 in c:\\users\\venkata sai dhanush\\appdata\\roaming\\python\\python311\\site-packages (from snowflake-snowpark-python) (4.25.3)\n",
      "Requirement already satisfied: python-dateutil in c:\\users\\venkata sai dhanush\\appdata\\roaming\\python\\python311\\site-packages (from snowflake-snowpark-python) (2.8.2)\n",
      "Collecting tzlocal (from snowflake-snowpark-python)\n",
      "  Obtaining dependency information for tzlocal from https://files.pythonhosted.org/packages/c2/14/e2a54fabd4f08cd7af1c07030603c3356b74da07f7cc056e600436edfa17/tzlocal-5.3.1-py3-none-any.whl.metadata\n",
      "  Downloading tzlocal-5.3.1-py3-none-any.whl.metadata (7.6 kB)\n",
      "Requirement already satisfied: pytz>=2020.1 in c:\\programdata\\anaconda3\\lib\\site-packages (from pandas) (2023.3.post1)\n",
      "Requirement already satisfied: tzdata>=2022.1 in c:\\programdata\\anaconda3\\lib\\site-packages (from pandas) (2023.3)\n",
      "Requirement already satisfied: joblib>=1.1.1 in c:\\programdata\\anaconda3\\lib\\site-packages (from scikit-learn) (1.2.0)\n",
      "Requirement already satisfied: threadpoolctl>=2.0.0 in c:\\programdata\\anaconda3\\lib\\site-packages (from scikit-learn) (2.2.0)\n",
      "Requirement already satisfied: contourpy>=1.0.1 in c:\\programdata\\anaconda3\\lib\\site-packages (from matplotlib) (1.0.5)\n",
      "Requirement already satisfied: cycler>=0.10 in c:\\programdata\\anaconda3\\lib\\site-packages (from matplotlib) (0.11.0)\n",
      "Requirement already satisfied: fonttools>=4.22.0 in c:\\programdata\\anaconda3\\lib\\site-packages (from matplotlib) (4.25.0)\n",
      "Requirement already satisfied: kiwisolver>=1.0.1 in c:\\programdata\\anaconda3\\lib\\site-packages (from matplotlib) (1.4.4)\n",
      "Requirement already satisfied: packaging>=20.0 in c:\\users\\venkata sai dhanush\\appdata\\roaming\\python\\python311\\site-packages (from matplotlib) (23.2)\n",
      "Requirement already satisfied: pillow>=6.2.0 in c:\\programdata\\anaconda3\\lib\\site-packages (from matplotlib) (9.4.0)\n",
      "Requirement already satisfied: pyparsing<3.1,>=2.3.1 in c:\\programdata\\anaconda3\\lib\\site-packages (from matplotlib) (3.0.9)\n",
      "Requirement already satisfied: six>=1.5 in c:\\users\\venkata sai dhanush\\appdata\\roaming\\python\\python311\\site-packages (from python-dateutil->snowflake-snowpark-python) (1.16.0)\n",
      "Collecting asn1crypto<2.0.0,>0.24.0 (from snowflake-connector-python<4.0.0,>=3.14.0->snowflake-snowpark-python)\n",
      "  Obtaining dependency information for asn1crypto<2.0.0,>0.24.0 from https://files.pythonhosted.org/packages/c9/7f/09065fd9e27da0eda08b4d6897f1c13535066174cc023af248fc2a8d5e5a/asn1crypto-1.5.1-py2.py3-none-any.whl.metadata\n",
      "  Downloading asn1crypto-1.5.1-py2.py3-none-any.whl.metadata (13 kB)\n",
      "Requirement already satisfied: boto3>=1.24 in c:\\users\\venkata sai dhanush\\appdata\\roaming\\python\\python311\\site-packages (from snowflake-connector-python<4.0.0,>=3.14.0->snowflake-snowpark-python) (1.34.140)\n",
      "Requirement already satisfied: botocore>=1.24 in c:\\users\\venkata sai dhanush\\appdata\\roaming\\python\\python311\\site-packages (from snowflake-connector-python<4.0.0,>=3.14.0->snowflake-snowpark-python) (1.34.140)\n",
      "Requirement already satisfied: cffi<2.0.0,>=1.9 in c:\\programdata\\anaconda3\\lib\\site-packages (from snowflake-connector-python<4.0.0,>=3.14.0->snowflake-snowpark-python) (1.15.1)\n",
      "Requirement already satisfied: cryptography>=3.1.0 in c:\\programdata\\anaconda3\\lib\\site-packages (from snowflake-connector-python<4.0.0,>=3.14.0->snowflake-snowpark-python) (41.0.3)\n",
      "Requirement already satisfied: pyOpenSSL<26.0.0,>=22.0.0 in c:\\programdata\\anaconda3\\lib\\site-packages (from snowflake-connector-python<4.0.0,>=3.14.0->snowflake-snowpark-python) (23.2.0)\n",
      "Requirement already satisfied: pyjwt<3.0.0 in c:\\programdata\\anaconda3\\lib\\site-packages (from snowflake-connector-python<4.0.0,>=3.14.0->snowflake-snowpark-python) (2.4.0)\n",
      "Requirement already satisfied: requests<3.0.0 in c:\\programdata\\anaconda3\\lib\\site-packages (from snowflake-connector-python<4.0.0,>=3.14.0->snowflake-snowpark-python) (2.31.0)\n",
      "Requirement already satisfied: charset_normalizer<4,>=2 in c:\\programdata\\anaconda3\\lib\\site-packages (from snowflake-connector-python<4.0.0,>=3.14.0->snowflake-snowpark-python) (2.0.4)\n",
      "Requirement already satisfied: idna<4,>=2.5 in c:\\users\\venkata sai dhanush\\appdata\\roaming\\python\\python311\\site-packages (from snowflake-connector-python<4.0.0,>=3.14.0->snowflake-snowpark-python) (3.7)\n",
      "Requirement already satisfied: certifi>=2017.4.17 in c:\\programdata\\anaconda3\\lib\\site-packages (from snowflake-connector-python<4.0.0,>=3.14.0->snowflake-snowpark-python) (2023.7.22)\n",
      "Requirement already satisfied: filelock<4,>=3.5 in c:\\programdata\\anaconda3\\lib\\site-packages (from snowflake-connector-python<4.0.0,>=3.14.0->snowflake-snowpark-python) (3.9.0)\n",
      "Requirement already satisfied: sortedcontainers>=2.4.0 in c:\\programdata\\anaconda3\\lib\\site-packages (from snowflake-connector-python<4.0.0,>=3.14.0->snowflake-snowpark-python) (2.4.0)\n",
      "Requirement already satisfied: platformdirs<5.0.0,>=2.6.0 in c:\\users\\venkata sai dhanush\\appdata\\roaming\\python\\python311\\site-packages (from snowflake-connector-python<4.0.0,>=3.14.0->snowflake-snowpark-python) (3.11.0)\n",
      "Requirement already satisfied: tomlkit in c:\\programdata\\anaconda3\\lib\\site-packages (from snowflake-connector-python<4.0.0,>=3.14.0->snowflake-snowpark-python) (0.11.1)\n",
      "Requirement already satisfied: jmespath<2.0.0,>=0.7.1 in c:\\programdata\\anaconda3\\lib\\site-packages (from boto3>=1.24->snowflake-connector-python<4.0.0,>=3.14.0->snowflake-snowpark-python) (0.10.0)\n",
      "Requirement already satisfied: s3transfer<0.11.0,>=0.10.0 in c:\\users\\venkata sai dhanush\\appdata\\roaming\\python\\python311\\site-packages (from boto3>=1.24->snowflake-connector-python<4.0.0,>=3.14.0->snowflake-snowpark-python) (0.10.2)\n",
      "Requirement already satisfied: urllib3!=2.2.0,<3,>=1.25.4 in c:\\programdata\\anaconda3\\lib\\site-packages (from botocore>=1.24->snowflake-connector-python<4.0.0,>=3.14.0->snowflake-snowpark-python) (1.26.16)\n",
      "Requirement already satisfied: pycparser in c:\\programdata\\anaconda3\\lib\\site-packages (from cffi<2.0.0,>=1.9->snowflake-connector-python<4.0.0,>=3.14.0->snowflake-snowpark-python) (2.21)\n",
      "Downloading snowflake_snowpark_python-1.34.0-py3-none-any.whl (1.7 MB)\n",
      "   ---------------------------------------- 0.0/1.7 MB ? eta -:--:--\n",
      "   ------ --------------------------------- 0.3/1.7 MB 5.3 MB/s eta 0:00:01\n",
      "   ------------ --------------------------- 0.5/1.7 MB 5.4 MB/s eta 0:00:01\n",
      "   ----------------- ---------------------- 0.7/1.7 MB 5.1 MB/s eta 0:00:01\n",
      "   --------------------- ------------------ 0.9/1.7 MB 4.4 MB/s eta 0:00:01\n",
      "   -------------------------- ------------- 1.1/1.7 MB 4.6 MB/s eta 0:00:01\n",
      "   ------------------------------- -------- 1.3/1.7 MB 4.4 MB/s eta 0:00:01\n",
      "   ----------------------------------- ---- 1.5/1.7 MB 4.4 MB/s eta 0:00:01\n",
      "   ---------------------------------------- 1.7/1.7 MB 4.3 MB/s eta 0:00:00\n",
      "Downloading snowflake_connector_python-3.16.0-cp311-cp311-win_amd64.whl (951 kB)\n",
      "   ---------------------------------------- 0.0/951.7 kB ? eta -:--:--\n",
      "   -------- ------------------------------ 204.8/951.7 kB 12.2 MB/s eta 0:00:01\n",
      "   ------------------- -------------------- 471.0/951.7 kB 7.3 MB/s eta 0:00:01\n",
      "   ---------------------------- ----------- 675.8/951.7 kB 6.1 MB/s eta 0:00:01\n",
      "   ---------------------------------------  942.1/951.7 kB 5.9 MB/s eta 0:00:01\n",
      "   ---------------------------------------- 951.7/951.7 kB 6.0 MB/s eta 0:00:00\n",
      "Downloading tzlocal-5.3.1-py3-none-any.whl (18 kB)\n",
      "Downloading asn1crypto-1.5.1-py2.py3-none-any.whl (105 kB)\n",
      "   ---------------------------------------- 0.0/105.0 kB ? eta -:--:--\n",
      "   ---------------------------------------- 105.0/105.0 kB 6.3 MB/s eta 0:00:00\n",
      "Installing collected packages: asn1crypto, tzlocal, snowflake-connector-python, snowflake-snowpark-python\n",
      "Successfully installed asn1crypto-1.5.1 snowflake-connector-python-3.16.0 snowflake-snowpark-python-1.34.0 tzlocal-5.3.1\n"
     ]
    }
   ],
   "source": [
    "pip install snowflake-snowpark-python pandas scikit-learn scipy numpy matplotlib"
   ]
  },
  {
   "cell_type": "code",
   "execution_count": 2,
   "id": "a4f01583",
   "metadata": {
    "vscode": {
     "languageId": "markdown"
    }
   },
   "outputs": [
    {
     "name": "stdout",
     "output_type": "stream",
     "text": [
      "Libraries good!\n"
     ]
    }
   ],
   "source": [
    "import snowflake.snowpark\n",
    "import pandas as pd\n",
    "import sklearn\n",
    "import scipy\n",
    "import numpy as np\n",
    "import matplotlib\n",
    "print(\"Libraries good!\")"
   ]
  },
  {
   "cell_type": "code",
   "execution_count": 1,
   "id": "d7123ef7",
   "metadata": {
    "vscode": {
     "languageId": "markdown"
    }
   },
   "outputs": [
    {
     "name": "stdout",
     "output_type": "stream",
     "text": [
      "Defaulting to user installation because normal site-packages is not writeableNote: you may need to restart the kernel to use updated packages.\n",
      "\n",
      "Requirement already satisfied: snowflake-connector-python in c:\\users\\venkata sai dhanush\\appdata\\roaming\\python\\python311\\site-packages (3.16.0)\n",
      "Collecting snowflake-sqlalchemy\n",
      "  Obtaining dependency information for snowflake-sqlalchemy from https://files.pythonhosted.org/packages/98/9b/2eb13e877636311122602c3c0efa20cb0b1233dbc460803f30b8fd294999/snowflake_sqlalchemy-1.7.6-py3-none-any.whl.metadata\n",
      "  Downloading snowflake_sqlalchemy-1.7.6-py3-none-any.whl.metadata (29 kB)\n",
      "Requirement already satisfied: sqlalchemy in c:\\programdata\\anaconda3\\lib\\site-packages (1.4.39)\n",
      "Requirement already satisfied: asn1crypto<2.0.0,>0.24.0 in c:\\users\\venkata sai dhanush\\appdata\\roaming\\python\\python311\\site-packages (from snowflake-connector-python) (1.5.1)\n",
      "Requirement already satisfied: boto3>=1.24 in c:\\users\\venkata sai dhanush\\appdata\\roaming\\python\\python311\\site-packages (from snowflake-connector-python) (1.34.140)\n",
      "Requirement already satisfied: botocore>=1.24 in c:\\users\\venkata sai dhanush\\appdata\\roaming\\python\\python311\\site-packages (from snowflake-connector-python) (1.34.140)\n",
      "Requirement already satisfied: cffi<2.0.0,>=1.9 in c:\\programdata\\anaconda3\\lib\\site-packages (from snowflake-connector-python) (1.15.1)\n",
      "Requirement already satisfied: cryptography>=3.1.0 in c:\\programdata\\anaconda3\\lib\\site-packages (from snowflake-connector-python) (41.0.3)\n",
      "Requirement already satisfied: pyOpenSSL<26.0.0,>=22.0.0 in c:\\programdata\\anaconda3\\lib\\site-packages (from snowflake-connector-python) (23.2.0)\n",
      "Requirement already satisfied: pyjwt<3.0.0 in c:\\programdata\\anaconda3\\lib\\site-packages (from snowflake-connector-python) (2.4.0)\n",
      "Requirement already satisfied: pytz in c:\\programdata\\anaconda3\\lib\\site-packages (from snowflake-connector-python) (2023.3.post1)\n",
      "Requirement already satisfied: requests<3.0.0 in c:\\programdata\\anaconda3\\lib\\site-packages (from snowflake-connector-python) (2.31.0)\n",
      "Requirement already satisfied: packaging in c:\\users\\venkata sai dhanush\\appdata\\roaming\\python\\python311\\site-packages (from snowflake-connector-python) (23.2)\n",
      "Requirement already satisfied: charset_normalizer<4,>=2 in c:\\programdata\\anaconda3\\lib\\site-packages (from snowflake-connector-python) (2.0.4)\n",
      "Requirement already satisfied: idna<4,>=2.5 in c:\\users\\venkata sai dhanush\\appdata\\roaming\\python\\python311\\site-packages (from snowflake-connector-python) (3.7)\n",
      "Requirement already satisfied: certifi>=2017.4.17 in c:\\programdata\\anaconda3\\lib\\site-packages (from snowflake-connector-python) (2023.7.22)\n",
      "Requirement already satisfied: typing_extensions<5,>=4.3 in c:\\users\\venkata sai dhanush\\appdata\\roaming\\python\\python311\\site-packages (from snowflake-connector-python) (4.10.0)\n",
      "Requirement already satisfied: filelock<4,>=3.5 in c:\\programdata\\anaconda3\\lib\\site-packages (from snowflake-connector-python) (3.9.0)\n",
      "Requirement already satisfied: sortedcontainers>=2.4.0 in c:\\programdata\\anaconda3\\lib\\site-packages (from snowflake-connector-python) (2.4.0)\n",
      "Requirement already satisfied: platformdirs<5.0.0,>=2.6.0 in c:\\users\\venkata sai dhanush\\appdata\\roaming\\python\\python311\\site-packages (from snowflake-connector-python) (3.11.0)\n",
      "Requirement already satisfied: tomlkit in c:\\programdata\\anaconda3\\lib\\site-packages (from snowflake-connector-python) (0.11.1)\n",
      "Requirement already satisfied: greenlet!=0.4.17 in c:\\programdata\\anaconda3\\lib\\site-packages (from sqlalchemy) (2.0.1)\n",
      "Requirement already satisfied: jmespath<2.0.0,>=0.7.1 in c:\\programdata\\anaconda3\\lib\\site-packages (from boto3>=1.24->snowflake-connector-python) (0.10.0)\n",
      "Requirement already satisfied: s3transfer<0.11.0,>=0.10.0 in c:\\users\\venkata sai dhanush\\appdata\\roaming\\python\\python311\\site-packages (from boto3>=1.24->snowflake-connector-python) (0.10.2)\n",
      "Requirement already satisfied: python-dateutil<3.0.0,>=2.1 in c:\\users\\venkata sai dhanush\\appdata\\roaming\\python\\python311\\site-packages (from botocore>=1.24->snowflake-connector-python) (2.8.2)\n",
      "Requirement already satisfied: urllib3!=2.2.0,<3,>=1.25.4 in c:\\programdata\\anaconda3\\lib\\site-packages (from botocore>=1.24->snowflake-connector-python) (1.26.16)\n",
      "Requirement already satisfied: pycparser in c:\\programdata\\anaconda3\\lib\\site-packages (from cffi<2.0.0,>=1.9->snowflake-connector-python) (2.21)\n",
      "Requirement already satisfied: six>=1.5 in c:\\users\\venkata sai dhanush\\appdata\\roaming\\python\\python311\\site-packages (from python-dateutil<3.0.0,>=2.1->botocore>=1.24->snowflake-connector-python) (1.16.0)\n",
      "Downloading snowflake_sqlalchemy-1.7.6-py3-none-any.whl (70 kB)\n",
      "   ---------------------------------------- 0.0/70.5 kB ? eta -:--:--\n",
      "   ---------------------------------- ----- 61.4/70.5 kB 1.7 MB/s eta 0:00:01\n",
      "   ---------------------------------------- 70.5/70.5 kB 1.3 MB/s eta 0:00:00\n",
      "Installing collected packages: snowflake-sqlalchemy\n",
      "Successfully installed snowflake-sqlalchemy-1.7.6\n"
     ]
    }
   ],
   "source": [
    "pip install snowflake-connector-python snowflake-sqlalchemy sqlalchemy\n"
   ]
  },
  {
   "cell_type": "code",
   "execution_count": 9,
   "id": "36f03733",
   "metadata": {
    "vscode": {
     "languageId": "markdown"
    }
   },
   "outputs": [
    {
     "name": "stdout",
     "output_type": "stream",
     "text": [
      "Defaulting to user installation because normal site-packages is not writeable\n",
      "Requirement already satisfied: snowflake-connector-python in c:\\users\\venkata sai dhanush\\appdata\\roaming\\python\\python311\\site-packages (3.16.0)\n",
      "Requirement already satisfied: snowflake-snowpark-python in c:\\users\\venkata sai dhanush\\appdata\\roaming\\python\\python311\\site-packages (1.34.0)\n",
      "Requirement already satisfied: asn1crypto<2.0.0,>0.24.0 in c:\\users\\venkata sai dhanush\\appdata\\roaming\\python\\python311\\site-packages (from snowflake-connector-python) (1.5.1)\n",
      "Requirement already satisfied: boto3>=1.24 in c:\\users\\venkata sai dhanush\\appdata\\roaming\\python\\python311\\site-packages (from snowflake-connector-python) (1.34.140)\n",
      "Requirement already satisfied: botocore>=1.24 in c:\\users\\venkata sai dhanush\\appdata\\roaming\\python\\python311\\site-packages (from snowflake-connector-python) (1.34.140)\n",
      "Requirement already satisfied: cffi<2.0.0,>=1.9 in c:\\programdata\\anaconda3\\lib\\site-packages (from snowflake-connector-python) (1.15.1)\n",
      "Requirement already satisfied: cryptography>=3.1.0 in c:\\programdata\\anaconda3\\lib\\site-packages (from snowflake-connector-python) (41.0.3)\n",
      "Requirement already satisfied: pyOpenSSL<26.0.0,>=22.0.0 in c:\\programdata\\anaconda3\\lib\\site-packages (from snowflake-connector-python) (23.2.0)\n",
      "Requirement already satisfied: pyjwt<3.0.0 in c:\\programdata\\anaconda3\\lib\\site-packages (from snowflake-connector-python) (2.4.0)\n",
      "Requirement already satisfied: pytz in c:\\programdata\\anaconda3\\lib\\site-packages (from snowflake-connector-python) (2023.3.post1)\n",
      "Requirement already satisfied: requests<3.0.0 in c:\\programdata\\anaconda3\\lib\\site-packages (from snowflake-connector-python) (2.31.0)\n",
      "Requirement already satisfied: packaging in c:\\users\\venkata sai dhanush\\appdata\\roaming\\python\\python311\\site-packages (from snowflake-connector-python) (23.2)\n",
      "Requirement already satisfied: charset_normalizer<4,>=2 in c:\\programdata\\anaconda3\\lib\\site-packages (from snowflake-connector-python) (2.0.4)\n",
      "Requirement already satisfied: idna<4,>=2.5 in c:\\users\\venkata sai dhanush\\appdata\\roaming\\python\\python311\\site-packages (from snowflake-connector-python) (3.7)\n",
      "Requirement already satisfied: certifi>=2017.4.17 in c:\\programdata\\anaconda3\\lib\\site-packages (from snowflake-connector-python) (2023.7.22)\n",
      "Requirement already satisfied: typing_extensions<5,>=4.3 in c:\\users\\venkata sai dhanush\\appdata\\roaming\\python\\python311\\site-packages (from snowflake-connector-python) (4.10.0)\n",
      "Requirement already satisfied: filelock<4,>=3.5 in c:\\programdata\\anaconda3\\lib\\site-packages (from snowflake-connector-python) (3.9.0)\n",
      "Requirement already satisfied: sortedcontainers>=2.4.0 in c:\\programdata\\anaconda3\\lib\\site-packages (from snowflake-connector-python) (2.4.0)\n",
      "Requirement already satisfied: platformdirs<5.0.0,>=2.6.0 in c:\\users\\venkata sai dhanush\\appdata\\roaming\\python\\python311\\site-packages (from snowflake-connector-python) (3.11.0)\n",
      "Requirement already satisfied: tomlkit in c:\\programdata\\anaconda3\\lib\\site-packages (from snowflake-connector-python) (0.11.1)\n",
      "Requirement already satisfied: setuptools>=40.6.0 in c:\\programdata\\anaconda3\\lib\\site-packages (from snowflake-snowpark-python) (68.0.0)\n",
      "Requirement already satisfied: wheel in c:\\programdata\\anaconda3\\lib\\site-packages (from snowflake-snowpark-python) (0.38.4)\n",
      "Requirement already satisfied: pyyaml in c:\\programdata\\anaconda3\\lib\\site-packages (from snowflake-snowpark-python) (6.0)\n",
      "Requirement already satisfied: cloudpickle!=2.1.0,!=2.2.0,<=3.0.0,>=1.6.0 in c:\\programdata\\anaconda3\\lib\\site-packages (from snowflake-snowpark-python) (2.2.1)\n",
      "Requirement already satisfied: protobuf<6,>=3.20 in c:\\users\\venkata sai dhanush\\appdata\\roaming\\python\\python311\\site-packages (from snowflake-snowpark-python) (4.25.3)\n",
      "Requirement already satisfied: python-dateutil in c:\\users\\venkata sai dhanush\\appdata\\roaming\\python\\python311\\site-packages (from snowflake-snowpark-python) (2.8.2)\n",
      "Requirement already satisfied: tzlocal in c:\\users\\venkata sai dhanush\\appdata\\roaming\\python\\python311\\site-packages (from snowflake-snowpark-python) (5.3.1)\n",
      "Requirement already satisfied: jmespath<2.0.0,>=0.7.1 in c:\\programdata\\anaconda3\\lib\\site-packages (from boto3>=1.24->snowflake-connector-python) (0.10.0)\n",
      "Requirement already satisfied: s3transfer<0.11.0,>=0.10.0 in c:\\users\\venkata sai dhanush\\appdata\\roaming\\python\\python311\\site-packages (from boto3>=1.24->snowflake-connector-python) (0.10.2)\n",
      "Requirement already satisfied: urllib3!=2.2.0,<3,>=1.25.4 in c:\\programdata\\anaconda3\\lib\\site-packages (from botocore>=1.24->snowflake-connector-python) (1.26.16)\n",
      "Requirement already satisfied: pycparser in c:\\programdata\\anaconda3\\lib\\site-packages (from cffi<2.0.0,>=1.9->snowflake-connector-python) (2.21)\n",
      "Requirement already satisfied: six>=1.5 in c:\\users\\venkata sai dhanush\\appdata\\roaming\\python\\python311\\site-packages (from python-dateutil->snowflake-snowpark-python) (1.16.0)\n",
      "Requirement already satisfied: tzdata in c:\\programdata\\anaconda3\\lib\\site-packages (from tzlocal->snowflake-snowpark-python) (2023.3)\n",
      "Note: you may need to restart the kernel to use updated packages.\n"
     ]
    }
   ],
   "source": [
    "pip install --upgrade snowflake-connector-python snowflake-snowpark-python\n"
   ]
  },
  {
   "cell_type": "code",
   "execution_count": 22,
   "id": "44999e2b",
   "metadata": {
    "vscode": {
     "languageId": "markdown"
    }
   },
   "outputs": [
    {
     "name": "stdout",
     "output_type": "stream",
     "text": [
      "Connected to Snowflake!\n"
     ]
    }
   ],
   "source": [
    "from snowflake.snowpark import Session\n",
    "\n",
    "connection_parameters = {\n",
    "    \"account\": \"UE17324.eu-west-2.aws\",  # e.g., xy12345.us-east-1\n",
    "    \"user\": \"Dhanush1054\",\n",
    "    \"password\": \"Dhanush@1054851\",\n",
    "    \"role\": \"SYSADMIN\",\n",
    "    \"warehouse\": \"COMPUTE_WH\",\n",
    "    \"database\": \"ecommerce_db\",\n",
    "    \"schema\": \"analytics\"\n",
    "}\n",
    "session = Session.builder.configs(connection_parameters).create()\n",
    "print(\"Connected to Snowflake!\")"
   ]
  },
  {
   "cell_type": "code",
   "execution_count": 23,
   "id": "18cad9c4",
   "metadata": {
    "vscode": {
     "languageId": "markdown"
    }
   },
   "outputs": [],
   "source": [
    "from snowflake.snowpark.functions import col, datediff, count, sum, max, current_date\n",
    "\n",
    "# Load data from customer_data table\n",
    "df = session.table(\"customer_data\")\n",
    "df = df.with_column(\"TotalSpend\", col(\"Quantity\") * col(\"UnitPrice\"))"
   ]
  },
  {
   "cell_type": "code",
   "execution_count": 24,
   "id": "b4392fef",
   "metadata": {
    "vscode": {
     "languageId": "markdown"
    }
   },
   "outputs": [
    {
     "name": "stdout",
     "output_type": "stream",
     "text": [
      "Index(['CUSTOMERID', 'RECENCY', 'FREQUENCY', 'MONETARY', 'cluster', 'Cluster'], dtype='object')\n"
     ]
    }
   ],
   "source": [
    "print(rfm_pandas.columns)\n"
   ]
  },
  {
   "cell_type": "code",
   "execution_count": 25,
   "id": "f1a91523",
   "metadata": {
    "vscode": {
     "languageId": "markdown"
    }
   },
   "outputs": [
    {
     "name": "stdout",
     "output_type": "stream",
     "text": [
      "Earliest date: 2010-12-01 08:26:00, Latest date: 2011-12-09 12:50:00\n"
     ]
    }
   ],
   "source": [
    "# Check date range\n",
    "df = session.table(\"customer_data\")\n",
    "min_date = df.selectExpr(\"MIN(InvoiceDate) AS min_date\").collect()[0][\"MIN_DATE\"]\n",
    "max_date = df.selectExpr(\"MAX(InvoiceDate) AS max_date\").collect()[0][\"MAX_DATE\"]\n",
    "print(f\"Earliest date: {min_date}, Latest date: {max_date}\")"
   ]
  },
  {
   "cell_type": "code",
   "execution_count": 26,
   "id": "ca8c2c10",
   "metadata": {
    "vscode": {
     "languageId": "markdown"
    }
   },
   "outputs": [],
   "source": [
    "from snowflake.snowpark.functions import col, datediff, count, sum, lit, max as sf_max\n",
    "\n",
    "max_date = \"2011-12-09\"\n",
    "\n",
    "df = session.table(\"customer_data\")\n",
    "df = df.filter(col(\"CustomerID\").is_not_null())  # Remove null CustomerIDs\n",
    "df = df.with_column(\"TotalSpend\", col(\"Quantity\") * col(\"UnitPrice\"))\n",
    "\n",
    "\n"
   ]
  },
  {
   "cell_type": "code",
   "execution_count": 27,
   "id": "771040b3",
   "metadata": {
    "vscode": {
     "languageId": "markdown"
    }
   },
   "outputs": [
    {
     "name": "stdout",
     "output_type": "stream",
     "text": [
      "  CUSTOMERID  RECENCY  FREQUENCY  MONETARY\n",
      "0      14505       17        803   5818.70\n",
      "1      17841        1       7983  40340.78\n",
      "2      13591       64         58   1117.13\n",
      "3      15862        8        147    832.88\n",
      "4      15394        9         85   2183.54\n",
      "5      17980      165         30    811.45\n",
      "6      14859       12         59   1352.04\n",
      "7      14733        9        216   9451.54\n",
      "8      15791       43         76   1604.44\n",
      "9      16966        8         31   2148.47\n"
     ]
    }
   ],
   "source": [
    "rfm_df = df.group_by(\"CustomerID\").agg(\n",
    "    datediff(\"day\", sf_max(col(\"InvoiceDate\")), lit(max_date)).alias(\"Recency\"),\n",
    "    count(\"InvoiceNo\").alias(\"Frequency\"),\n",
    "    sum(\"TotalSpend\").alias(\"Monetary\")\n",
    ")\n",
    "\n",
    "rfm_df.write.save_as_table(\"rfm_data\", mode=\"overwrite\")\n",
    "\n",
    "print(rfm_df.limit(10).to_pandas())"
   ]
  },
  {
   "cell_type": "code",
   "execution_count": 28,
   "id": "42561e86",
   "metadata": {
    "vscode": {
     "languageId": "markdown"
    }
   },
   "outputs": [
    {
     "name": "stderr",
     "output_type": "stream",
     "text": [
      "c:\\ProgramData\\anaconda3\\Lib\\site-packages\\sklearn\\cluster\\_kmeans.py:1412: FutureWarning: The default value of `n_init` will change from 10 to 'auto' in 1.4. Set the value of `n_init` explicitly to suppress the warning\n",
      "  super()._check_params_vs_input(X, default_n_init=10)\n"
     ]
    },
    {
     "data": {
      "image/png": "[encoded data removed]",
      "text/plain": [
       "<Figure size 640x480 with 1 Axes>"
      ]
     },
     "metadata": {},
     "output_type": "display_data"
    },
    {
     "name": "stderr",
     "output_type": "stream",
     "text": [
      "c:\\ProgramData\\anaconda3\\Lib\\site-packages\\sklearn\\cluster\\_kmeans.py:1412: FutureWarning: The default value of `n_init` will change from 10 to 'auto' in 1.4. Set the value of `n_init` explicitly to suppress the warning\n",
      "  super()._check_params_vs_input(X, default_n_init=10)\n"
     ]
    },
    {
     "name": "stdout",
     "output_type": "stream",
     "text": [
      "Silhouette Score: 0.5693359181581982\n",
      "  CUSTOMERID  RECENCY  FREQUENCY  MONETARY  cluster  Cluster\n",
      "0      14505       17        803   5818.70        0        0\n",
      "1      17841        1       7983  40340.78        3        3\n",
      "2      13591       64         58   1117.13        0        0\n",
      "3      15862        8        147    832.88        0        0\n",
      "4      15394        9         85   2183.54        0        0\n",
      "5      17980      165         30    811.45        1        1\n",
      "6      14859       12         59   1352.04        0        0\n",
      "7      14733        9        216   9451.54        0        0\n",
      "8      15791       43         76   1604.44        0        0\n",
      "9      16966        8         31   2148.47        0        0\n"
     ]
    }
   ],
   "source": [
    "from sklearn.cluster import KMeans\n",
    "from sklearn.preprocessing import StandardScaler\n",
    "from sklearn.metrics import silhouette_score\n",
    "\n",
    "# Reload and clean RFM data\n",
    "rfm_df = session.table(\"rfm_data\")\n",
    "rfm_df = rfm_df.filter(col(\"CustomerID\").is_not_null())\n",
    "rfm_df = rfm_df.filter((col(\"Frequency\") < 10000) & (col(\"Monetary\") < 100000))\n",
    "rfm_pandas = rfm_df.to_pandas()\n",
    "\n",
    "# K-Means with corrected data\n",
    "X = rfm_pandas[[\"RECENCY\", \"FREQUENCY\", \"MONETARY\"]]\n",
    "scaler = StandardScaler()\n",
    "X_scaled = scaler.fit_transform(X)\n",
    "kmeans = KMeans(n_clusters=4, random_state=42)\n",
    "rfm_pandas[\"cluster\"] = kmeans.fit_predict(X_scaled)\n",
    "\n",
    "# Draw a picture to pick the best number of groups\n",
    "plt.plot(range(2, 9), inertias, marker=\"o\")\n",
    "plt.xlabel(\"Number of Groups\")\n",
    "plt.ylabel(\"Inertia\")\n",
    "plt.title(\"Elbow Method\")\n",
    "plt.show()\n",
    "\n",
    "# Choose 4 groups (or adjust based on the picture)\n",
    "kmeans = KMeans(n_clusters=4, random_state=42)\n",
    "rfm_pandas[\"Cluster\"] = kmeans.fit_predict(X_scaled)\n",
    "\n",
    "\n",
    "# Check quality\n",
    "score = silhouette_score(X_scaled, rfm_pandas[\"cluster\"])\n",
    "print(f\"Silhouette Score: {score}\")\n",
    "\n",
    "# Save to Snowflake (overwrite old customer_segments)\n",
    "session.write_pandas(rfm_pandas, \"customer_segments\", auto_create_table=True, overwrite=True)\n",
    "print(rfm_pandas.head(10))\n",
    "\n"
   ]
  },
  {
   "cell_type": "code",
   "execution_count": 29,
   "id": "3e0634bb",
   "metadata": {
    "vscode": {
     "languageId": "markdown"
    }
   },
   "outputs": [
    {
     "name": "stdout",
     "output_type": "stream",
     "text": [
      "Cluster\n",
      "0    3223\n",
      "1    1108\n",
      "2      32\n",
      "3       3\n",
      "Name: count, dtype: int64\n"
     ]
    }
   ],
   "source": [
    "print(rfm_pandas[\"Cluster\"].value_counts())\n"
   ]
  },
  {
   "cell_type": "code",
   "execution_count": 30,
   "id": "576ec16d",
   "metadata": {
    "vscode": {
     "languageId": "markdown"
    }
   },
   "outputs": [
    {
     "name": "stderr",
     "output_type": "stream",
     "text": [
      "c:\\ProgramData\\anaconda3\\Lib\\site-packages\\sklearn\\cluster\\_kmeans.py:1412: FutureWarning: The default value of `n_init` will change from 10 to 'auto' in 1.4. Set the value of `n_init` explicitly to suppress the warning\n",
      "  super()._check_params_vs_input(X, default_n_init=10)\n"
     ]
    },
    {
     "name": "stdout",
     "output_type": "stream",
     "text": [
      "Silhouette Score: 0.5693359181581982\n"
     ]
    }
   ],
   "source": [
    "from sklearn.cluster import KMeans\n",
    "from sklearn.preprocessing import StandardScaler\n",
    "from sklearn.metrics import silhouette_score\n",
    "\n",
    "X = rfm_pandas[[\"RECENCY\", \"FREQUENCY\", \"MONETARY\"]]\n",
    "scaler = StandardScaler()\n",
    "X_scaled = scaler.fit_transform(X)\n",
    "kmeans = KMeans(n_clusters=4, random_state=42)\n",
    "rfm_pandas[\"cluster\"] = kmeans.fit_predict(X_scaled)\n",
    "score = silhouette_score(X_scaled, rfm_pandas[\"cluster\"])\n",
    "print(f\"Silhouette Score: {score}\")"
   ]
  }
 ],
 "metadata": {
  "kernelspec": {
   "display_name": "base",
   "language": "python",
   "name": "python3"
  },
  "language_info": {
   "codemirror_mode": {
    "name": "ipython",
    "version": 3
   },
   "file_extension": ".py",
   "mimetype": "text/x-python",
   "name": "python",
   "nbconvert_exporter": "python",
   "pygments_lexer": "ipython3",
   "version": "3.11.5"
  }
 },
 "nbformat": 4,
 "nbformat_minor": 5
}
